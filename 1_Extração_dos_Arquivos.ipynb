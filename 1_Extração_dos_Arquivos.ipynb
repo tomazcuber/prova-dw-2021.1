{
 "cells": [
  {
   "cell_type": "markdown",
   "metadata": {
    "id": "b3UnW2m9aFyD"
   },
   "source": [
    "# Prova Individual - Data Warehousing no Suporte à Tomada de Decisão\n",
    "### Período 2021/1\n",
    "*   **Aluno: Tomaz Cuber Guimarães**\n",
    "*   **DRE: 116057692**\n",
    "\n",
    " "
   ]
  },
  {
   "cell_type": "markdown",
   "metadata": {
    "id": "3E-HG4lebV3C"
   },
   "source": [
    "## **Questão 1)** Extração dos Microdados do ENEM"
   ]
  },
  {
   "cell_type": "markdown",
   "metadata": {
    "id": "YyZrNjPPbmk0"
   },
   "source": [
    "1.1 Importando dependências: "
   ]
  },
  {
   "cell_type": "code",
   "execution_count": 1,
   "metadata": {
    "id": "40xFN8I4aEsk"
   },
   "outputs": [],
   "source": [
    "import pandas as pd\n",
    "import numpy as np\n",
    "from io import BytesIO\n",
    "import os \n",
    "import zipfile\n",
    "import requests"
   ]
  },
  {
   "cell_type": "markdown",
   "metadata": {
    "id": "-iF3DQKwcHvd"
   },
   "source": [
    "1.2 Download dos arquivos do site do INEP"
   ]
  },
  {
   "cell_type": "code",
   "execution_count": 2,
   "metadata": {
    "id": "Rd6MA346cK2O"
   },
   "outputs": [],
   "source": [
    "# Criação de diretórios no sistema de arquivos local\n",
    "os.makedirs('./enade/2019', exist_ok=True)\n",
    "os.makedirs('./enade/2018', exist_ok=True)\n",
    "os.makedirs('./enade/2017', exist_ok=True)"
   ]
  },
  {
   "cell_type": "code",
   "execution_count": 4,
   "metadata": {
    "colab": {
     "base_uri": "https://localhost:8080/"
    },
    "id": "MupK2KIgcgSc",
    "outputId": "3430f3d6-186a-4c6b-cfe3-b6bf9480bc31"
   },
   "outputs": [],
   "source": [
    "# Download e extração dos arquivos .zip por ano de realização da prova\n",
    "def download_and_extract(year):\n",
    "    path = f'./enade/{year}'\n",
    "    if len(os.listdir(path)) == 0:\n",
    "      if year == '2017':\n",
    "        url = f'https://download.inep.gov.br/microdados/Enade_Microdados/microdados_Enade_2017_portal_2018.10.09.zip'\n",
    "      else: \n",
    "        url = f'https://download.inep.gov.br/microdados/Enade_Microdados/microdados_enade_{year}.zip'\n",
    "      print(url)\n",
    "      req = requests.get(url).content\n",
    "      file_buffer = BytesIO(req)\n",
    "      compressed = zipfile.ZipFile(file_buffer)\n",
    "      compressed.extractall(path)\n",
    "    else:\n",
    "        print(f'Arquivos do ano de {year} já foram baixados.')"
   ]
  },
  {
   "cell_type": "code",
   "execution_count": 5,
   "metadata": {},
   "outputs": [
    {
     "name": "stdout",
     "output_type": "stream",
     "text": [
      "https://download.inep.gov.br/microdados/Enade_Microdados/microdados_Enade_2017_portal_2018.10.09.zip\n"
     ]
    }
   ],
   "source": [
    "download_and_extract('2017')"
   ]
  },
  {
   "cell_type": "code",
   "execution_count": 6,
   "metadata": {},
   "outputs": [
    {
     "name": "stdout",
     "output_type": "stream",
     "text": [
      "https://download.inep.gov.br/microdados/Enade_Microdados/microdados_enade_2018.zip\n"
     ]
    }
   ],
   "source": [
    "download_and_extract('2018')"
   ]
  },
  {
   "cell_type": "code",
   "execution_count": 7,
   "metadata": {},
   "outputs": [
    {
     "name": "stdout",
     "output_type": "stream",
     "text": [
      "https://download.inep.gov.br/microdados/Enade_Microdados/microdados_enade_2019.zip\n"
     ]
    }
   ],
   "source": [
    "download_and_extract('2019')"
   ]
  }
 ],
 "metadata": {
  "colab": {
   "name": "ProvaDW_TomazCuber.ipynb",
   "provenance": []
  },
  "kernelspec": {
   "display_name": "Python 3 (ipykernel)",
   "language": "python",
   "name": "python3"
  },
  "language_info": {
   "codemirror_mode": {
    "name": "ipython",
    "version": 3
   },
   "file_extension": ".py",
   "mimetype": "text/x-python",
   "name": "python",
   "nbconvert_exporter": "python",
   "pygments_lexer": "ipython3",
   "version": "3.9.6"
  }
 },
 "nbformat": 4,
 "nbformat_minor": 4
}
