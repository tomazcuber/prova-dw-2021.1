{
 "cells": [
  {
   "cell_type": "markdown",
   "id": "c099c9f2-34f6-4ded-82fa-cfb272adb973",
   "metadata": {},
   "source": [
    "# Questão 2) Criação do Modelo Dimensional Estrela"
   ]
  },
  {
   "cell_type": "markdown",
   "id": "b4ea1041-730d-4b19-9845-71cc4cc06fac",
   "metadata": {},
   "source": [
    "O Fato ressaltado foi a Prova de um estudante, cujos atributos são as notas de cada uma das provas:\n",
    "- NT_GER: Nota bruta da Prova;\n",
    "- NT_FG: Nota bruta na formação geral;\n",
    "- NT_OBJ_FG: Nota bruta na parte objetiva da formação geral; \n",
    "- NT_DIS_FG: Nota bruta na parte discursiva da formação geral;\n",
    "- NT_CE: Nota bruta no componente específico; \n",
    "- NT_OBJ_CE: Nota bruta na parte objetiva do componente específico; \n",
    "- NT_DIS_CE: Nota bruta na parte discursiva do componente específico;"
   ]
  },
  {
   "cell_type": "markdown",
   "id": "6294c156-6d67-4844-9038-dbf282d4f5c6",
   "metadata": {},
   "source": [
    "Foram identificadas **12 dimensões**:\n",
    "- DIM_ANO: Ano de realização da prova;\n",
    "- DIM_Estudante: Dados do estudante; \n",
    "- DIM_IES: Dados da Instituição de Ensino Superior de origem do estudante; \n",
    "- DIM_Curso: Dados do curso de origem do estudante; \n",
    "- DIM_LocalCurso: Dados do local do curso de origem do estudante;\n",
    "- DIM_EnsinoMed: Dados do Ensino Médio do estudante;\n",
    "- DIM_Presença: Dados referentes a presença do estudante nas prova;\n",
    "- DIM_QuestPercepcao: Respostas do estudante ao Questionário de Percepção da Prova;\n",
    "- DIM_Socioeconomica: Respostas do estudante ao Questionário do Estudante referente a informações socioeconomicas;\n",
    "- DIM_QuestOportunidades: Respostas do estudante ao Questionário do Estudante referente a oportunidades oferecidas durante o curso;\n",
    "- DIM_QuestProfessores: Respostas do estudante ao Questionário do Estudante referente aos professores do curso; \n",
    "- DIM_QuestDesenvolvimento: Respostas do estudante ao Questionário do Estudante referente ao seu desenvolvimento ao longo do curso."
   ]
  },
  {
   "cell_type": "markdown",
   "id": "ef6bfce5-0eb9-4911-ac6c-1e8f02a60fbd",
   "metadata": {},
   "source": [
    "A ferramenta usada para desenhar o Modelo Dimensional foi o [brModelo](http://www.sis4.com/brmodelo/)."
   ]
  },
  {
   "cell_type": "markdown",
   "id": "3613598d-244f-4828-b8a0-58e4ab061c40",
   "metadata": {},
   "source": [
    "<img src='DIM_ESTRELA_ENADE.png' width=\"800\" height=\"800\">"
   ]
  },
  {
   "cell_type": "markdown",
   "id": "9a65f530-623c-435e-a622-76739b560a05",
   "metadata": {},
   "source": [
    "# Questão 3) Criação do Banco de Dados"
   ]
  },
  {
   "cell_type": "code",
   "execution_count": 1,
   "id": "5404953d-fed7-4340-a72b-904feba78b15",
   "metadata": {},
   "outputs": [],
   "source": [
    "# Importando bibliotecas necessárias\n",
    "import pandas as pd\n",
    "import numpy as np\n",
    "import os \n",
    "import shutil\n",
    "import sqlite3\n",
    "from sqlite3 import Error"
   ]
  },
  {
   "cell_type": "code",
   "execution_count": 2,
   "id": "b3756207-b9cb-454e-bdc3-8d356a040a4f",
   "metadata": {},
   "outputs": [],
   "source": [
    "from IPython.core.interactiveshell import InteractiveShell\n",
    "InteractiveShell.ast_node_interactivity = \"all\""
   ]
  },
  {
   "cell_type": "markdown",
   "id": "906b0e44-6b5f-490c-9aa6-506febddf169",
   "metadata": {},
   "source": [
    "## 3.1 Lendo os arquivos dos Microdados"
   ]
  },
  {
   "cell_type": "code",
   "execution_count": 3,
   "id": "c1b87f88-acd4-4131-839f-b3cd6bc1af31",
   "metadata": {},
   "outputs": [],
   "source": [
    "curr_path = os.path.dirname(os.path.realpath('__file__')) + \"/\"\n",
    "path_enade = curr_path + \"enade/\"\n",
    "db_name = \"ENADE_DIM.db\""
   ]
  },
  {
   "cell_type": "code",
   "execution_count": 4,
   "id": "59d99a21-d33d-4efe-963e-d9b07475a9f4",
   "metadata": {},
   "outputs": [],
   "source": [
    "def read_to_dataframe(year):\n",
    "    csv_path = path_enade + year +  \"/3.DADOS/\"\n",
    "    if year != '2017':\n",
    "        csv_path = csv_path + f'microdados_enade_{year}.txt'\n",
    "    else: \n",
    "        csv_path = csv_path + 'MICRODADOS_ENADE_2017.txt'\n",
    "    \n",
    "    return pd.read_csv(csv_path, sep=';', low_memory=False)\n",
    "    "
   ]
  },
  {
   "cell_type": "code",
   "execution_count": 5,
   "id": "9931ff0a-549c-4078-b8ae-d720aef86a06",
   "metadata": {},
   "outputs": [],
   "source": [
    "df_enade_2019 = read_to_dataframe('2019')"
   ]
  },
  {
   "cell_type": "code",
   "execution_count": 6,
   "id": "1d2949c4-d246-4c67-9dde-d37bf4deb48c",
   "metadata": {},
   "outputs": [],
   "source": [
    "df_enade_2018 = read_to_dataframe('2018')"
   ]
  },
  {
   "cell_type": "code",
   "execution_count": 7,
   "id": "9691b81c-7523-48d0-b45b-f08fca40d144",
   "metadata": {},
   "outputs": [],
   "source": [
    "df_enade_2017 = read_to_dataframe('2017')"
   ]
  },
  {
   "cell_type": "code",
   "execution_count": 8,
   "id": "f5be68f7-9e7e-4cdc-89ba-bb9913e1fdf1",
   "metadata": {},
   "outputs": [],
   "source": [
    "df_enade = pd.concat([df_enade_2017, df_enade_2018, df_enade_2019], axis=0)"
   ]
  },
  {
   "cell_type": "code",
   "execution_count": 9,
   "id": "290e6051-82ac-4e5d-905c-36a74bcae3c8",
   "metadata": {},
   "outputs": [],
   "source": [
    "del df_enade_2019, df_enade_2018, df_enade_2017"
   ]
  },
  {
   "cell_type": "markdown",
   "id": "3af2e2ce-abb1-4b53-879c-55151d5e8724",
   "metadata": {},
   "source": [
    "## 3.2 Utilitários para manipulação do Banco de Dados"
   ]
  },
  {
   "cell_type": "code",
   "execution_count": 10,
   "id": "eaff94a6-de7a-494e-9d23-776921ff4dfc",
   "metadata": {},
   "outputs": [],
   "source": [
    "db_name = \"ENADE_DW.sqlite\""
   ]
  },
  {
   "cell_type": "code",
   "execution_count": 11,
   "id": "8fb2247b-c393-406a-aa3e-4e8201409636",
   "metadata": {},
   "outputs": [],
   "source": [
    "def new_db_conn(path, db_name):\n",
    "    db_conn = None\n",
    "    try:\n",
    "        db_conn = sqlite3.connect(path + db_name)\n",
    "    \n",
    "    except Error as e:\n",
    "        print(e)\n",
    "        return False\n",
    "    \n",
    "    finally:\n",
    "        if db_conn:\n",
    "            db_conn.close()\n",
    "    return 1"
   ]
  },
  {
   "cell_type": "code",
   "execution_count": 12,
   "id": "f1280c5f-0dad-48e7-8b07-d1ca9b6aa05b",
   "metadata": {},
   "outputs": [],
   "source": [
    "def verify_table(cursor, table_name):\n",
    "    cursor.execute(''' SELECT name FROM sqlite_master WHERE type='table' AND name='{}' '''.format(table_name))\n",
    "    \n",
    "    if cursor.fetchone():\n",
    "        return 1\n",
    "    else:\n",
    "        return 0"
   ]
  },
  {
   "cell_type": "code",
   "execution_count": 13,
   "id": "02fa6fd3-b059-4dc5-8ece-589b56953570",
   "metadata": {},
   "outputs": [],
   "source": [
    "def sqlite_type_conversion(type_str):\n",
    "    if type_str in [\"int32\", \"int64\", \"bool\"]:\n",
    "            sqlite_type = \"integer\"\n",
    "            \n",
    "    elif type_str == \"float64\":\n",
    "            sqlite_type = \"real\"           \n",
    "    else:\n",
    "        sqlite_type = \"text\"\n",
    "    \n",
    "    return sqlite_type\n",
    "    "
   ]
  },
  {
   "cell_type": "code",
   "execution_count": 14,
   "id": "e2d3d8d1-8e87-42ca-b3f7-56d8ffb1ad2d",
   "metadata": {},
   "outputs": [],
   "source": [
    "def insert_table(df, cursor, table_name, has_id=False, id_name=''):\n",
    "    table_exists = verify_table(cursor, table_name)\n",
    "    if not table_exists:\n",
    "        columns_list = list(df.columns)\n",
    "        \n",
    "        new_columns = []\n",
    "        for column in columns_list:\n",
    "            column = column + \" \" + sqlite_type_conversion(str(df[column].dtype))\n",
    "            new_columns.append(column)\n",
    "        \n",
    "        column_names = \", \".join(new_columns)\n",
    "        \n",
    "        print(f\"Creating table {table_name} on {db_name}\", end='\\r', flush=True)\n",
    "        \n",
    "        create_query = 'CREATE TABLE ' + table_name + ' (' + column_names\n",
    "        if has_id == True & len(id_name) > 0:\n",
    "            create_query = create_query + ', ' + id_name + ' INTEGER PRIMARY KEY'\n",
    "        create_query = create_query + ')'\n",
    "        print(create_query)\n",
    "        cursor.execute('' + create_query + '')\n",
    "        \n",
    "        \n",
    "        df.to_sql(table_name, db_conn, if_exists=\"append\", index=False)\n",
    "        db_conn.commit()\n",
    "        \n",
    "        \n",
    "        print(\" \"*70, end=\"\\r\", flush=True)\n",
    "        print(f\"Successfully created table {table_name} on {db_name}.\", end=\"\\n\\n\")\n",
    "    else:\n",
    "        print(f\"Table {table_name} already existis on {db_name}\",end=\"\\n\\n\")"
   ]
  },
  {
   "cell_type": "code",
   "execution_count": 15,
   "id": "4a72cc84-9310-4352-8f03-cde745218d97",
   "metadata": {},
   "outputs": [
    {
     "name": "stdout",
     "output_type": "stream",
     "text": [
      "Successfully created connection to ENADE_DW.sqlite\n"
     ]
    }
   ],
   "source": [
    "if (new_db_conn(curr_path,  db_name)):\n",
    "    db_conn = sqlite3.connect(curr_path + db_name)\n",
    "    cursor = db_conn.cursor()\n",
    "    print(f\"Successfully created connection to {db_name}\")\n",
    "    db_conn.commit()\n"
   ]
  },
  {
   "cell_type": "markdown",
   "id": "e927997d-59cc-45bc-8421-ae124ac6afc0",
   "metadata": {},
   "source": [
    "## 3.3 Limpeza dos dados"
   ]
  },
  {
   "cell_type": "markdown",
   "id": "6113335d-91ae-4872-adb3-1cae01277385",
   "metadata": {},
   "source": [
    "### 3.3.1 Remoção de colunas não utilizadas"
   ]
  },
  {
   "cell_type": "code",
   "execution_count": 16,
   "id": "1a08cf2b-0ed6-4af6-9556-b48e23fb237a",
   "metadata": {},
   "outputs": [],
   "source": [
    "df_enade.drop(columns=['NU_ITEM_OFG', 'NU_ITEM_OFG_Z', 'NU_ITEM_OFG_X', 'NU_ITEM_OFG_N', 'NU_ITEM_OCE', \n",
    "                       'NU_ITEM_OCE_Z', 'NU_ITEM_OCE_X', 'NU_ITEM_OCE_N', 'DS_VT_GAB_OFG_ORIG','DS_VT_GAB_OFG_FIN',\n",
    "                       'DS_VT_GAB_OCE_ORIG','DS_VT_GAB_OCE_FIN','DS_VT_ESC_OFG','DS_VT_ACE_OFG','DS_VT_ESC_OCE',         \n",
    "                       'DS_VT_ACE_OCE','NT_FG_D1','NT_FG_D1_PT','NT_FG_D1_CT','NT_FG_D2','NT_FG_D2_PT','NT_FG_D2_CT',\n",
    "                       'NT_CE_D1','NT_CE_D2','NT_CE_D3', 'TP_SFG_D1','TP_SFG_D2','TP_SCE_D1','TP_SCE_D2','TP_SCE_D3'], inplace=True)"
   ]
  },
  {
   "cell_type": "markdown",
   "id": "faf3cad2-aafd-47f5-900a-23db523011f2",
   "metadata": {},
   "source": [
    "### 3.3.2 Limpeza de nulos"
   ]
  },
  {
   "cell_type": "code",
   "execution_count": 17,
   "id": "eea257fa-e878-43b5-a81d-c8d2061fbb4b",
   "metadata": {},
   "outputs": [
    {
     "name": "stdout",
     "output_type": "stream",
     "text": [
      "Columns value counts before treatment:\n"
     ]
    },
    {
     "data": {
      "text/html": [
       "<div>\n",
       "<style scoped>\n",
       "    .dataframe tbody tr th:only-of-type {\n",
       "        vertical-align: middle;\n",
       "    }\n",
       "\n",
       "    .dataframe tbody tr th {\n",
       "        vertical-align: top;\n",
       "    }\n",
       "\n",
       "    .dataframe thead th {\n",
       "        text-align: right;\n",
       "    }\n",
       "</style>\n",
       "<table border=\"1\" class=\"dataframe\">\n",
       "  <thead>\n",
       "    <tr style=\"text-align: right;\">\n",
       "      <th></th>\n",
       "      <th>CO_RS_I1</th>\n",
       "      <th>CO_RS_I2</th>\n",
       "      <th>CO_RS_I3</th>\n",
       "      <th>CO_RS_I4</th>\n",
       "      <th>CO_RS_I5</th>\n",
       "      <th>CO_RS_I6</th>\n",
       "      <th>CO_RS_I7</th>\n",
       "      <th>CO_RS_I8</th>\n",
       "      <th>CO_RS_I9</th>\n",
       "    </tr>\n",
       "  </thead>\n",
       "  <tbody>\n",
       "    <tr>\n",
       "      <th></th>\n",
       "      <td>43606</td>\n",
       "      <td>43606</td>\n",
       "      <td>43606</td>\n",
       "      <td>43606</td>\n",
       "      <td>43606</td>\n",
       "      <td>43606</td>\n",
       "      <td>43606</td>\n",
       "      <td>43606</td>\n",
       "      <td>43606</td>\n",
       "    </tr>\n",
       "    <tr>\n",
       "      <th>*</th>\n",
       "      <td>596</td>\n",
       "      <td>631</td>\n",
       "      <td>1268</td>\n",
       "      <td>617</td>\n",
       "      <td>986</td>\n",
       "      <td>1354</td>\n",
       "      <td>2869</td>\n",
       "      <td>1624</td>\n",
       "      <td>1260</td>\n",
       "    </tr>\n",
       "    <tr>\n",
       "      <th>.</th>\n",
       "      <td>146269</td>\n",
       "      <td>146845</td>\n",
       "      <td>147261</td>\n",
       "      <td>148022</td>\n",
       "      <td>147807</td>\n",
       "      <td>148326</td>\n",
       "      <td>150391</td>\n",
       "      <td>151912</td>\n",
       "      <td>156768</td>\n",
       "    </tr>\n",
       "    <tr>\n",
       "      <th>A</th>\n",
       "      <td>19927</td>\n",
       "      <td>10207</td>\n",
       "      <td>192321</td>\n",
       "      <td>258875</td>\n",
       "      <td>268892</td>\n",
       "      <td>66454</td>\n",
       "      <td>201392</td>\n",
       "      <td>51871</td>\n",
       "      <td>11756</td>\n",
       "    </tr>\n",
       "    <tr>\n",
       "      <th>B</th>\n",
       "      <td>97945</td>\n",
       "      <td>60689</td>\n",
       "      <td>288315</td>\n",
       "      <td>650776</td>\n",
       "      <td>682924</td>\n",
       "      <td>370582</td>\n",
       "      <td>586734</td>\n",
       "      <td>131958</td>\n",
       "      <td>154877</td>\n",
       "    </tr>\n",
       "    <tr>\n",
       "      <th>C</th>\n",
       "      <td>712741</td>\n",
       "      <td>667636</td>\n",
       "      <td>662219</td>\n",
       "      <td>186416</td>\n",
       "      <td>176576</td>\n",
       "      <td>593982</td>\n",
       "      <td>70787</td>\n",
       "      <td>194099</td>\n",
       "      <td>365143</td>\n",
       "    </tr>\n",
       "    <tr>\n",
       "      <th>D</th>\n",
       "      <td>353933</td>\n",
       "      <td>439307</td>\n",
       "      <td>77681</td>\n",
       "      <td>130251</td>\n",
       "      <td>100702</td>\n",
       "      <td>194112</td>\n",
       "      <td>170437</td>\n",
       "      <td>740683</td>\n",
       "      <td>591154</td>\n",
       "    </tr>\n",
       "    <tr>\n",
       "      <th>E</th>\n",
       "      <td>58720</td>\n",
       "      <td>64816</td>\n",
       "      <td>21066</td>\n",
       "      <td>15174</td>\n",
       "      <td>12244</td>\n",
       "      <td>15321</td>\n",
       "      <td>207521</td>\n",
       "      <td>117984</td>\n",
       "      <td>109173</td>\n",
       "    </tr>\n",
       "  </tbody>\n",
       "</table>\n",
       "</div>"
      ],
      "text/plain": [
       "   CO_RS_I1  CO_RS_I2  CO_RS_I3  CO_RS_I4  CO_RS_I5  CO_RS_I6  CO_RS_I7  \\\n",
       "      43606     43606     43606     43606     43606     43606     43606   \n",
       "*       596       631      1268       617       986      1354      2869   \n",
       ".    146269    146845    147261    148022    147807    148326    150391   \n",
       "A     19927     10207    192321    258875    268892     66454    201392   \n",
       "B     97945     60689    288315    650776    682924    370582    586734   \n",
       "C    712741    667636    662219    186416    176576    593982     70787   \n",
       "D    353933    439307     77681    130251    100702    194112    170437   \n",
       "E     58720     64816     21066     15174     12244     15321    207521   \n",
       "\n",
       "   CO_RS_I8  CO_RS_I9  \n",
       "      43606     43606  \n",
       "*      1624      1260  \n",
       ".    151912    156768  \n",
       "A     51871     11756  \n",
       "B    131958    154877  \n",
       "C    194099    365143  \n",
       "D    740683    591154  \n",
       "E    117984    109173  "
      ]
     },
     "execution_count": 17,
     "metadata": {},
     "output_type": "execute_result"
    }
   ],
   "source": [
    "# Questionário de Percepção da Prova: Valores vazios ou NaN podem ser preenchidos com o caractere '.' que indica \"Sem resposta\"\n",
    "columns = [\"CO_RS_I1\", \"CO_RS_I2\", \"CO_RS_I3\", \"CO_RS_I4\", \"CO_RS_I5\", \"CO_RS_I6\", \"CO_RS_I7\", \"CO_RS_I8\", \"CO_RS_I9\"]\n",
    "print(\"Columns value counts before treatment:\")\n",
    "df_enade[columns].apply(pd.Series.value_counts)"
   ]
  },
  {
   "cell_type": "code",
   "execution_count": 18,
   "id": "92af860d-6765-4f7d-aacb-bb7acc9b0deb",
   "metadata": {},
   "outputs": [
    {
     "name": "stdout",
     "output_type": "stream",
     "text": [
      "Columns with NaN after treatment:\n",
      "CO_RS_I1    0\n",
      "CO_RS_I2    0\n",
      "CO_RS_I3    0\n",
      "CO_RS_I4    0\n",
      "CO_RS_I5    0\n",
      "CO_RS_I6    0\n",
      "CO_RS_I7    0\n",
      "CO_RS_I8    0\n",
      "CO_RS_I9    0\n",
      "dtype: int64\n",
      "Columns with '.' after treatment:\n"
     ]
    },
    {
     "data": {
      "text/html": [
       "<div>\n",
       "<style scoped>\n",
       "    .dataframe tbody tr th:only-of-type {\n",
       "        vertical-align: middle;\n",
       "    }\n",
       "\n",
       "    .dataframe tbody tr th {\n",
       "        vertical-align: top;\n",
       "    }\n",
       "\n",
       "    .dataframe thead th {\n",
       "        text-align: right;\n",
       "    }\n",
       "</style>\n",
       "<table border=\"1\" class=\"dataframe\">\n",
       "  <thead>\n",
       "    <tr style=\"text-align: right;\">\n",
       "      <th></th>\n",
       "      <th>CO_RS_I1</th>\n",
       "      <th>CO_RS_I2</th>\n",
       "      <th>CO_RS_I3</th>\n",
       "      <th>CO_RS_I4</th>\n",
       "      <th>CO_RS_I5</th>\n",
       "      <th>CO_RS_I6</th>\n",
       "      <th>CO_RS_I7</th>\n",
       "      <th>CO_RS_I8</th>\n",
       "      <th>CO_RS_I9</th>\n",
       "    </tr>\n",
       "  </thead>\n",
       "  <tbody>\n",
       "    <tr>\n",
       "      <th>*</th>\n",
       "      <td>596</td>\n",
       "      <td>631</td>\n",
       "      <td>1268</td>\n",
       "      <td>617</td>\n",
       "      <td>986</td>\n",
       "      <td>1354</td>\n",
       "      <td>2869</td>\n",
       "      <td>1624</td>\n",
       "      <td>1260</td>\n",
       "    </tr>\n",
       "    <tr>\n",
       "      <th>.</th>\n",
       "      <td>275631</td>\n",
       "      <td>276207</td>\n",
       "      <td>276623</td>\n",
       "      <td>277384</td>\n",
       "      <td>277169</td>\n",
       "      <td>277688</td>\n",
       "      <td>279753</td>\n",
       "      <td>281274</td>\n",
       "      <td>286130</td>\n",
       "    </tr>\n",
       "    <tr>\n",
       "      <th>A</th>\n",
       "      <td>19927</td>\n",
       "      <td>10207</td>\n",
       "      <td>192321</td>\n",
       "      <td>258875</td>\n",
       "      <td>268892</td>\n",
       "      <td>66454</td>\n",
       "      <td>201392</td>\n",
       "      <td>51871</td>\n",
       "      <td>11756</td>\n",
       "    </tr>\n",
       "    <tr>\n",
       "      <th>B</th>\n",
       "      <td>97945</td>\n",
       "      <td>60689</td>\n",
       "      <td>288315</td>\n",
       "      <td>650776</td>\n",
       "      <td>682924</td>\n",
       "      <td>370582</td>\n",
       "      <td>586734</td>\n",
       "      <td>131958</td>\n",
       "      <td>154877</td>\n",
       "    </tr>\n",
       "    <tr>\n",
       "      <th>C</th>\n",
       "      <td>712741</td>\n",
       "      <td>667636</td>\n",
       "      <td>662219</td>\n",
       "      <td>186416</td>\n",
       "      <td>176576</td>\n",
       "      <td>593982</td>\n",
       "      <td>70787</td>\n",
       "      <td>194099</td>\n",
       "      <td>365143</td>\n",
       "    </tr>\n",
       "    <tr>\n",
       "      <th>D</th>\n",
       "      <td>353933</td>\n",
       "      <td>439307</td>\n",
       "      <td>77681</td>\n",
       "      <td>130251</td>\n",
       "      <td>100702</td>\n",
       "      <td>194112</td>\n",
       "      <td>170437</td>\n",
       "      <td>740683</td>\n",
       "      <td>591154</td>\n",
       "    </tr>\n",
       "    <tr>\n",
       "      <th>E</th>\n",
       "      <td>58720</td>\n",
       "      <td>64816</td>\n",
       "      <td>21066</td>\n",
       "      <td>15174</td>\n",
       "      <td>12244</td>\n",
       "      <td>15321</td>\n",
       "      <td>207521</td>\n",
       "      <td>117984</td>\n",
       "      <td>109173</td>\n",
       "    </tr>\n",
       "  </tbody>\n",
       "</table>\n",
       "</div>"
      ],
      "text/plain": [
       "   CO_RS_I1  CO_RS_I2  CO_RS_I3  CO_RS_I4  CO_RS_I5  CO_RS_I6  CO_RS_I7  \\\n",
       "*       596       631      1268       617       986      1354      2869   \n",
       ".    275631    276207    276623    277384    277169    277688    279753   \n",
       "A     19927     10207    192321    258875    268892     66454    201392   \n",
       "B     97945     60689    288315    650776    682924    370582    586734   \n",
       "C    712741    667636    662219    186416    176576    593982     70787   \n",
       "D    353933    439307     77681    130251    100702    194112    170437   \n",
       "E     58720     64816     21066     15174     12244     15321    207521   \n",
       "\n",
       "   CO_RS_I8  CO_RS_I9  \n",
       "*      1624      1260  \n",
       ".    281274    286130  \n",
       "A     51871     11756  \n",
       "B    131958    154877  \n",
       "C    194099    365143  \n",
       "D    740683    591154  \n",
       "E    117984    109173  "
      ]
     },
     "execution_count": 18,
     "metadata": {},
     "output_type": "execute_result"
    }
   ],
   "source": [
    "for column in columns:\n",
    "    df_enade[column].fillna('.', inplace=True)\n",
    "    df_enade[column] = np.where(df_enade[column] == ' ', '.', df_enade[column])\n",
    "print(\"Columns with NaN after treatment:\")\n",
    "print(df_enade[columns].isna().sum())\n",
    "print(\"Columns with '.' after treatment:\")\n",
    "df_enade[columns].apply(pd.Series.value_counts)"
   ]
  },
  {
   "cell_type": "code",
   "execution_count": 19,
   "id": "8a486a9b-9cdd-4350-935e-b4a27a03e6b0",
   "metadata": {},
   "outputs": [
    {
     "data": {
      "text/plain": [
       "NU_ANO                  int64\n",
       "CO_IES                  int64\n",
       "CO_CATEGAD              int64\n",
       "CO_ORGACAD              int64\n",
       "CO_GRUPO                int64\n",
       "CO_CURSO                int64\n",
       "CO_MODALIDADE           int64\n",
       "CO_MUNIC_CURSO          int64\n",
       "CO_UF_CURSO             int64\n",
       "CO_REGIAO_CURSO         int64\n",
       "NU_IDADE                int64\n",
       "TP_SEXO                object\n",
       "ANO_FIM_EM            float64\n",
       "ANO_IN_GRAD           float64\n",
       "CO_TURNO_GRADUACAO    float64\n",
       "TP_INSCRICAO_ADM        int64\n",
       "TP_INSCRICAO            int64\n",
       "TP_PRES               float64\n",
       "TP_PR_GER             float64\n",
       "TP_PR_OB_FG           float64\n",
       "TP_PR_DI_FG           float64\n",
       "TP_PR_OB_CE           float64\n",
       "TP_PR_DI_CE           float64\n",
       "NT_GER                 object\n",
       "NT_FG                  object\n",
       "NT_OBJ_FG              object\n",
       "NT_DIS_FG              object\n",
       "NT_CE                  object\n",
       "NT_OBJ_CE              object\n",
       "NT_DIS_CE              object\n",
       "CO_RS_I1               object\n",
       "CO_RS_I2               object\n",
       "CO_RS_I3               object\n",
       "CO_RS_I4               object\n",
       "CO_RS_I5               object\n",
       "CO_RS_I6               object\n",
       "CO_RS_I7               object\n",
       "CO_RS_I8               object\n",
       "CO_RS_I9               object\n",
       "QE_I01                 object\n",
       "QE_I02                 object\n",
       "QE_I03                 object\n",
       "QE_I04                 object\n",
       "QE_I05                 object\n",
       "QE_I06                 object\n",
       "QE_I07                 object\n",
       "QE_I08                 object\n",
       "QE_I09                 object\n",
       "QE_I10                 object\n",
       "QE_I11                 object\n",
       "QE_I12                 object\n",
       "QE_I13                 object\n",
       "QE_I14                 object\n",
       "QE_I15                 object\n",
       "QE_I16                 object\n",
       "QE_I17                 object\n",
       "QE_I18                 object\n",
       "QE_I19                 object\n",
       "QE_I20                 object\n",
       "QE_I21                 object\n",
       "QE_I22                 object\n",
       "QE_I23                 object\n",
       "QE_I24                 object\n",
       "QE_I25                 object\n",
       "QE_I26                 object\n",
       "QE_I27                 object\n",
       "QE_I28                 object\n",
       "QE_I29                 object\n",
       "QE_I30                 object\n",
       "QE_I31                 object\n",
       "QE_I32                 object\n",
       "QE_I33                 object\n",
       "QE_I34                 object\n",
       "QE_I35                 object\n",
       "QE_I36                 object\n",
       "QE_I37                 object\n",
       "QE_I38                 object\n",
       "QE_I39                 object\n",
       "QE_I40                 object\n",
       "QE_I41                 object\n",
       "QE_I42                 object\n",
       "QE_I43                 object\n",
       "QE_I44                 object\n",
       "QE_I45                 object\n",
       "QE_I46                 object\n",
       "QE_I47                 object\n",
       "QE_I48                 object\n",
       "QE_I49                 object\n",
       "QE_I50                 object\n",
       "QE_I51                 object\n",
       "QE_I52                 object\n",
       "QE_I53                 object\n",
       "QE_I54                 object\n",
       "QE_I55                 object\n",
       "QE_I56                 object\n",
       "QE_I57                 object\n",
       "QE_I58                 object\n",
       "QE_I59                 object\n",
       "QE_I60                 object\n",
       "QE_I61                 object\n",
       "QE_I62                 object\n",
       "QE_I63                 object\n",
       "QE_I64                 object\n",
       "QE_I65                 object\n",
       "QE_I66                 object\n",
       "QE_I67                 object\n",
       "QE_I68                 object\n",
       "QE_I69                 object\n",
       "QE_I70                 object\n",
       "QE_I71                 object\n",
       "QE_I72                 object\n",
       "QE_I73                 object\n",
       "QE_I74                 object\n",
       "QE_I75                 object\n",
       "QE_I76                 object\n",
       "QE_I77                 object\n",
       "QE_I78                 object\n",
       "QE_I79                 object\n",
       "QE_I80                 object\n",
       "QE_I81                 object\n",
       "dtype: object"
      ]
     },
     "execution_count": 19,
     "metadata": {},
     "output_type": "execute_result"
    }
   ],
   "source": [
    "pd.set_option('display.max_rows', None)\n",
    "df_enade.dtypes"
   ]
  },
  {
   "cell_type": "markdown",
   "id": "379ba8fa-07d9-48ab-aaad-6df7d226798b",
   "metadata": {},
   "source": [
    "## 3.4 Criação das Tabelas Dimensão"
   ]
  },
  {
   "cell_type": "markdown",
   "id": "2e17bbab-7d34-48fb-a33e-b9fe5b04873e",
   "metadata": {},
   "source": [
    "### 3.4.1 Dimensão Ano (DIM_Ano)"
   ]
  },
  {
   "cell_type": "code",
   "execution_count": 20,
   "id": "2bb30463-871a-450c-b208-d7df1d763c4d",
   "metadata": {},
   "outputs": [
    {
     "data": {
      "text/html": [
       "<div>\n",
       "<style scoped>\n",
       "    .dataframe tbody tr th:only-of-type {\n",
       "        vertical-align: middle;\n",
       "    }\n",
       "\n",
       "    .dataframe tbody tr th {\n",
       "        vertical-align: top;\n",
       "    }\n",
       "\n",
       "    .dataframe thead th {\n",
       "        text-align: right;\n",
       "    }\n",
       "</style>\n",
       "<table border=\"1\" class=\"dataframe\">\n",
       "  <thead>\n",
       "    <tr style=\"text-align: right;\">\n",
       "      <th></th>\n",
       "      <th>NU_ANO</th>\n",
       "    </tr>\n",
       "  </thead>\n",
       "  <tbody>\n",
       "    <tr>\n",
       "      <th>0</th>\n",
       "      <td>2017</td>\n",
       "    </tr>\n",
       "    <tr>\n",
       "      <th>1</th>\n",
       "      <td>2018</td>\n",
       "    </tr>\n",
       "    <tr>\n",
       "      <th>2</th>\n",
       "      <td>2019</td>\n",
       "    </tr>\n",
       "  </tbody>\n",
       "</table>\n",
       "</div>"
      ],
      "text/plain": [
       "   NU_ANO\n",
       "0    2017\n",
       "1    2018\n",
       "2    2019"
      ]
     },
     "execution_count": 20,
     "metadata": {},
     "output_type": "execute_result"
    }
   ],
   "source": [
    "dim_ano = df_enade[[\"NU_ANO\"]].drop_duplicates().reset_index(drop=True)\n",
    "dim_ano"
   ]
  },
  {
   "cell_type": "code",
   "execution_count": 21,
   "id": "9a0fa071-181e-48d5-b0d2-df147fab3446",
   "metadata": {},
   "outputs": [
    {
     "name": "stdout",
     "output_type": "stream",
     "text": [
      "Table DIM_Ano already existis on ENADE_DW.sqlite\n",
      "\n"
     ]
    }
   ],
   "source": [
    "insert_table(dim_ano, cursor, \"DIM_Ano\")"
   ]
  },
  {
   "cell_type": "markdown",
   "id": "b04ecc83-05c3-4019-bab9-801dfdc94d85",
   "metadata": {},
   "source": [
    "### 3.4.2 Dimensão Estudante (DIM_Estu)"
   ]
  },
  {
   "cell_type": "code",
   "execution_count": 22,
   "id": "dc35b9da-7a9d-4337-9200-e4e16e49f477",
   "metadata": {},
   "outputs": [],
   "source": [
    "dim_estudante = df_enade[['NU_IDADE','TP_SEXO','ANO_FIM_EM','ANO_IN_GRAD','TP_INSCRICAO']]"
   ]
  },
  {
   "cell_type": "code",
   "execution_count": 23,
   "id": "4c1ddc37-140d-443f-b14e-2cee14be02c5",
   "metadata": {},
   "outputs": [
    {
     "name": "stdout",
     "output_type": "stream",
     "text": [
      "Table DIM_Estu already existis on ENADE_DW.sqlite\n",
      "\n"
     ]
    }
   ],
   "source": [
    "insert_table(dim_estudante, cursor, \"DIM_Estu\", has_id=True, id_name=\"ID_ESTU\")"
   ]
  },
  {
   "cell_type": "markdown",
   "id": "de5c8fd4-6cf1-49c2-be54-b1ab79d2a68e",
   "metadata": {},
   "source": [
    "### 3.4.3 Dimensão IES (DIM_IES)"
   ]
  },
  {
   "cell_type": "code",
   "execution_count": 24,
   "id": "3d84cd24-b8d3-47b7-954e-ce291224b0d0",
   "metadata": {},
   "outputs": [],
   "source": [
    "dim_ies = df_enade[['CO_IES', 'CO_CATEGAD','CO_ORGACAD']].drop_duplicates().reset_index(drop=True)"
   ]
  },
  {
   "cell_type": "code",
   "execution_count": 25,
   "id": "1cf166e0-2ef5-483a-843a-3f632f313945",
   "metadata": {},
   "outputs": [
    {
     "name": "stdout",
     "output_type": "stream",
     "text": [
      "Table DIM_IES already existis on ENADE_DW.sqlite\n",
      "\n"
     ]
    }
   ],
   "source": [
    "insert_table(dim_estudante, cursor, \"DIM_IES\")"
   ]
  },
  {
   "cell_type": "markdown",
   "id": "c67f92f2-6494-4671-bb14-054ac90919b2",
   "metadata": {},
   "source": [
    "### 3.4.5 Dimensão Curso (DIM_Curso)"
   ]
  },
  {
   "cell_type": "code",
   "execution_count": 26,
   "id": "32d05dc9-bee4-4be6-b8f3-951d2b54f3a2",
   "metadata": {},
   "outputs": [],
   "source": [
    "dim_ies = df_enade[['CO_CURSO', 'CO_MODALIDADE','CO_GRUPO']].drop_duplicates().reset_index(drop=True)"
   ]
  },
  {
   "cell_type": "code",
   "execution_count": 27,
   "id": "c0be5b87-fc88-4c75-9cc7-586b4d995001",
   "metadata": {},
   "outputs": [
    {
     "name": "stdout",
     "output_type": "stream",
     "text": [
      "Table DIM_Curso already existis on ENADE_DW.sqlite\n",
      "\n"
     ]
    }
   ],
   "source": [
    "insert_table(dim_estudante, cursor, \"DIM_Curso\")"
   ]
  },
  {
   "cell_type": "markdown",
   "id": "8a73cd2e-b01b-4fa4-b9e8-9977acd752ad",
   "metadata": {},
   "source": [
    "### 3.4.6 Dimensão Local do Curso (DIM_LocalCurso)"
   ]
  },
  {
   "cell_type": "code",
   "execution_count": 28,
   "id": "84409fc6-2b71-4a25-95b2-00635819661b",
   "metadata": {},
   "outputs": [],
   "source": [
    "dim_loc = df_enade[['CO_MUNIC_CURSO', 'CO_UF_CURSO','CO_REGIAO_CURSO']].drop_duplicates().reset_index(drop=True)"
   ]
  },
  {
   "cell_type": "code",
   "execution_count": 29,
   "id": "7c802c24-185a-45bb-9f74-913aebbf40e6",
   "metadata": {},
   "outputs": [
    {
     "name": "stdout",
     "output_type": "stream",
     "text": [
      "Table DIM_localCurso already existis on ENADE_DW.sqlite\n",
      "\n"
     ]
    }
   ],
   "source": [
    "insert_table(dim_estudante, cursor, \"DIM_localCurso\", has_id=True, id_name='ID_LOC')"
   ]
  },
  {
   "cell_type": "markdown",
   "id": "eafab0c4-3b71-46b6-b624-b7327e012aab",
   "metadata": {},
   "source": [
    "### 3.4.7 Dimensão Ensino Médio (DIM_EnsinoMed)"
   ]
  },
  {
   "cell_type": "code",
   "execution_count": 30,
   "id": "050dd778-d8b8-4543-85da-39e5187cbe84",
   "metadata": {},
   "outputs": [],
   "source": [
    "df_enade = df_enade.rename(columns={'QE_I16' : 'CO_UF_MEDIO', 'QE_I17' : 'CO_TIPO', 'QE_I18' : 'CO_MODALIDADE'})"
   ]
  },
  {
   "cell_type": "code",
   "execution_count": 31,
   "id": "75e40426-cabc-434f-b751-8f157734564f",
   "metadata": {},
   "outputs": [],
   "source": [
    "dim_em = df_enade[['CO_UF_MEDIO', 'CO_TIPO', 'CO_MODALIDADE']].drop_duplicates().reset_index(drop=True)"
   ]
  },
  {
   "cell_type": "code",
   "execution_count": 32,
   "id": "d0ecde69-d782-418f-b049-23fc87410ac8",
   "metadata": {},
   "outputs": [
    {
     "ename": "AttributeError",
     "evalue": "'DataFrame' object has no attribute 'dtype'",
     "output_type": "error",
     "traceback": [
      "\u001b[0;31m---------------------------------------------------------------------------\u001b[0m",
      "\u001b[0;31mAttributeError\u001b[0m                            Traceback (most recent call last)",
      "\u001b[0;32m/tmp/ipykernel_5870/3547746404.py\u001b[0m in \u001b[0;36m<module>\u001b[0;34m\u001b[0m\n\u001b[0;32m----> 1\u001b[0;31m \u001b[0minsert_table\u001b[0m\u001b[0;34m(\u001b[0m\u001b[0mdim_em\u001b[0m\u001b[0;34m,\u001b[0m \u001b[0mcursor\u001b[0m\u001b[0;34m,\u001b[0m \u001b[0;34m\"DIM_EnsinoMed\"\u001b[0m\u001b[0;34m,\u001b[0m \u001b[0mhas_id\u001b[0m\u001b[0;34m=\u001b[0m\u001b[0;32mTrue\u001b[0m\u001b[0;34m,\u001b[0m \u001b[0mid_name\u001b[0m\u001b[0;34m=\u001b[0m\u001b[0;34m\"ID_EM\"\u001b[0m\u001b[0;34m)\u001b[0m\u001b[0;34m\u001b[0m\u001b[0;34m\u001b[0m\u001b[0m\n\u001b[0m",
      "\u001b[0;32m/tmp/ipykernel_5870/571240560.py\u001b[0m in \u001b[0;36minsert_table\u001b[0;34m(df, cursor, table_name, has_id, id_name)\u001b[0m\n\u001b[1;32m      6\u001b[0m         \u001b[0mnew_columns\u001b[0m \u001b[0;34m=\u001b[0m \u001b[0;34m[\u001b[0m\u001b[0;34m]\u001b[0m\u001b[0;34m\u001b[0m\u001b[0;34m\u001b[0m\u001b[0m\n\u001b[1;32m      7\u001b[0m         \u001b[0;32mfor\u001b[0m \u001b[0mcolumn\u001b[0m \u001b[0;32min\u001b[0m \u001b[0mcolumns_list\u001b[0m\u001b[0;34m:\u001b[0m\u001b[0;34m\u001b[0m\u001b[0;34m\u001b[0m\u001b[0m\n\u001b[0;32m----> 8\u001b[0;31m             \u001b[0mcolumn\u001b[0m \u001b[0;34m=\u001b[0m \u001b[0mcolumn\u001b[0m \u001b[0;34m+\u001b[0m \u001b[0;34m\" \"\u001b[0m \u001b[0;34m+\u001b[0m \u001b[0msqlite_type_conversion\u001b[0m\u001b[0;34m(\u001b[0m\u001b[0mstr\u001b[0m\u001b[0;34m(\u001b[0m\u001b[0mdf\u001b[0m\u001b[0;34m[\u001b[0m\u001b[0mcolumn\u001b[0m\u001b[0;34m]\u001b[0m\u001b[0;34m.\u001b[0m\u001b[0mdtype\u001b[0m\u001b[0;34m)\u001b[0m\u001b[0;34m)\u001b[0m\u001b[0;34m\u001b[0m\u001b[0;34m\u001b[0m\u001b[0m\n\u001b[0m\u001b[1;32m      9\u001b[0m             \u001b[0mnew_columns\u001b[0m\u001b[0;34m.\u001b[0m\u001b[0mappend\u001b[0m\u001b[0;34m(\u001b[0m\u001b[0mcolumn\u001b[0m\u001b[0;34m)\u001b[0m\u001b[0;34m\u001b[0m\u001b[0;34m\u001b[0m\u001b[0m\n\u001b[1;32m     10\u001b[0m \u001b[0;34m\u001b[0m\u001b[0m\n",
      "\u001b[0;32m~/.local/lib/python3.9/site-packages/pandas/core/generic.py\u001b[0m in \u001b[0;36m__getattr__\u001b[0;34m(self, name)\u001b[0m\n\u001b[1;32m   5485\u001b[0m         ):\n\u001b[1;32m   5486\u001b[0m             \u001b[0;32mreturn\u001b[0m \u001b[0mself\u001b[0m\u001b[0;34m[\u001b[0m\u001b[0mname\u001b[0m\u001b[0;34m]\u001b[0m\u001b[0;34m\u001b[0m\u001b[0;34m\u001b[0m\u001b[0m\n\u001b[0;32m-> 5487\u001b[0;31m         \u001b[0;32mreturn\u001b[0m \u001b[0mobject\u001b[0m\u001b[0;34m.\u001b[0m\u001b[0m__getattribute__\u001b[0m\u001b[0;34m(\u001b[0m\u001b[0mself\u001b[0m\u001b[0;34m,\u001b[0m \u001b[0mname\u001b[0m\u001b[0;34m)\u001b[0m\u001b[0;34m\u001b[0m\u001b[0;34m\u001b[0m\u001b[0m\n\u001b[0m\u001b[1;32m   5488\u001b[0m \u001b[0;34m\u001b[0m\u001b[0m\n\u001b[1;32m   5489\u001b[0m     \u001b[0;32mdef\u001b[0m \u001b[0m__setattr__\u001b[0m\u001b[0;34m(\u001b[0m\u001b[0mself\u001b[0m\u001b[0;34m,\u001b[0m \u001b[0mname\u001b[0m\u001b[0;34m:\u001b[0m \u001b[0mstr\u001b[0m\u001b[0;34m,\u001b[0m \u001b[0mvalue\u001b[0m\u001b[0;34m)\u001b[0m \u001b[0;34m->\u001b[0m \u001b[0;32mNone\u001b[0m\u001b[0;34m:\u001b[0m\u001b[0;34m\u001b[0m\u001b[0;34m\u001b[0m\u001b[0m\n",
      "\u001b[0;31mAttributeError\u001b[0m: 'DataFrame' object has no attribute 'dtype'"
     ]
    }
   ],
   "source": [
    "insert_table(dim_em, cursor, \"DIM_EnsinoMed\", has_id=True, id_name=\"ID_EM\")"
   ]
  },
  {
   "cell_type": "code",
   "execution_count": null,
   "id": "55fc992e-b066-4215-873c-c0173e6396fa",
   "metadata": {},
   "outputs": [],
   "source": []
  }
 ],
 "metadata": {
  "kernelspec": {
   "display_name": "Python 3 (ipykernel)",
   "language": "python",
   "name": "python3"
  },
  "language_info": {
   "codemirror_mode": {
    "name": "ipython",
    "version": 3
   },
   "file_extension": ".py",
   "mimetype": "text/x-python",
   "name": "python",
   "nbconvert_exporter": "python",
   "pygments_lexer": "ipython3",
   "version": "3.9.7"
  }
 },
 "nbformat": 4,
 "nbformat_minor": 5
}
